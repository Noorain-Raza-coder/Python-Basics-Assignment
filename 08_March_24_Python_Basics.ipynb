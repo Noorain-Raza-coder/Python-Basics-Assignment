{
 "cells": [
  {
   "cell_type": "markdown",
   "id": "baf587e8-a550-430c-b3ba-7663ea1aa7f0",
   "metadata": {},
   "source": [
    "# Topic : Python Basics Varaiable"
   ]
  },
  {
   "cell_type": "markdown",
   "id": "e8f11373-9ed6-4e37-81df-9444c176d392",
   "metadata": {},
   "source": [
    "## 1) Declare two variables, `x` and `y`, and assign them integer values. Swap the values of these variables without using any temporary variable."
   ]
  },
  {
   "cell_type": "markdown",
   "id": "79c2d87e-95af-4887-b34f-40bcf89519ae",
   "metadata": {},
   "source": [
    "## Ans 1)\n",
    "\n",
    "#### Steps :\n",
    "- Assign any integer values to varaibles x and y.\n",
    "- Swap the value of x with y and y with x without using temporary variable."
   ]
  },
  {
   "cell_type": "code",
   "execution_count": 1,
   "id": "1ae68b91-75ee-4ee3-a45d-002230f1be7d",
   "metadata": {},
   "outputs": [
    {
     "name": "stdout",
     "output_type": "stream",
     "text": [
      "Values of x and y before swaping:-\n",
      "Value of x is : 5 \n",
      "Value of y is: 10\n"
     ]
    }
   ],
   "source": [
    "# Step 1 )  Assign an interger 5 to x and 10 to y.\n",
    "\n",
    "x = 5\n",
    "y = 10\n",
    "\n",
    "## Displaying the values of both varaibles before swaping:\n",
    "print(\"Values of x and y before swaping:-\"\"\\nValue of x is :\",x ,\"\\nValue of y is:\",y)"
   ]
  },
  {
   "cell_type": "code",
   "execution_count": 2,
   "id": "86e5f99f-aaff-4446-9c5f-55804becd07b",
   "metadata": {},
   "outputs": [
    {
     "name": "stdout",
     "output_type": "stream",
     "text": [
      "Values of x and y after swaping:-\n",
      "Value of x is : 10 \n",
      "Value of y is: 5\n"
     ]
    }
   ],
   "source": [
    "# Step 2) Swap the values of x and y using comma operator\n",
    "\n",
    "x , y = y , x\n",
    "\n",
    "## Displaying the values of both varaibles after swaping:\n",
    "print(\"Values of x and y after swaping:-\"\"\\nValue of x is :\",x ,\"\\nValue of y is:\",y)"
   ]
  },
  {
   "cell_type": "markdown",
   "id": "f45e86e0-7a2e-431c-9bbd-c82495089031",
   "metadata": {},
   "source": [
    "  \n",
    "  \n",
    "  \n",
    "  \n",
    "  "
   ]
  },
  {
   "cell_type": "markdown",
   "id": "7910b343-25f1-4978-b6d7-0429443ae87c",
   "metadata": {},
   "source": [
    "## 2) Create a program that calculates the area of a rectangle. Take the length and width as inputs from the     user and store them in variables. Calculate and display the area."
   ]
  },
  {
   "cell_type": "markdown",
   "id": "d8e4b3c9-c969-4b26-b17d-5b0a3fcadc58",
   "metadata": {},
   "source": [
    "## Ans 2)\n",
    "\n",
    "1) Task : Calculate the area of a rectangle.\n",
    "2) Formula : area of a rectangle = (length x width)\n",
    "3) Inputs : length and width ; Output : Area\n",
    "\n",
    "#### Steps :\n",
    "- Take the inputs i.e length and width from the user\n",
    "- Calculate the area of rectangle using formula and store it into variable called \"rectangle_area\"\n",
    "- Display the calculated area i.e : rectangle_area"
   ]
  },
  {
   "cell_type": "code",
   "execution_count": 3,
   "id": "8242ba74-7dd9-4723-a37d-1ecac285252e",
   "metadata": {},
   "outputs": [
    {
     "name": "stdin",
     "output_type": "stream",
     "text": [
      "Enter the length of rectangle:  10\n",
      "Enter the width of rectangle:  3\n"
     ]
    }
   ],
   "source": [
    "## step 1) take the inputs from the user\n",
    "\n",
    "length = float(input(\"Enter the length of rectangle: \"))\n",
    "width = float(input(\"Enter the width of rectangle: \"))"
   ]
  },
  {
   "cell_type": "code",
   "execution_count": 4,
   "id": "e8c5f30b-c97e-4f2b-8de5-6af813f8175c",
   "metadata": {},
   "outputs": [],
   "source": [
    "## step 2) Calculate the area of rectangle  = length x width\n",
    "\n",
    "rectangle_area = (length * width)"
   ]
  },
  {
   "cell_type": "code",
   "execution_count": 5,
   "id": "5854c5a1-6912-42c7-859f-71fe24038eb2",
   "metadata": {},
   "outputs": [
    {
     "name": "stdout",
     "output_type": "stream",
     "text": [
      "The area of rectangle is : 30.0\n"
     ]
    }
   ],
   "source": [
    "## step 3) Dispaly the calculated area :\n",
    "print(f\"The area of rectangle is : {rectangle_area}\")"
   ]
  },
  {
   "cell_type": "markdown",
   "id": "a066a7b9-2599-4832-a5f1-fb72cb89998f",
   "metadata": {
    "tags": []
   },
   "source": [
    "\n",
    "\n",
    "\n"
   ]
  },
  {
   "cell_type": "markdown",
   "id": "c7356984-c7d8-4d2c-92b8-9255820bc825",
   "metadata": {},
   "source": [
    "## 3) Write a Python program that converts temperatures from Celsius to Fahrenheit. Take the temperature in Celsius as input, store it in a variable,convert it to Fahrenheit, and display the result."
   ]
  },
  {
   "cell_type": "markdown",
   "id": "4c07e209-78fb-4b4e-9a56-31390a2f19af",
   "metadata": {},
   "source": [
    "## Ans 3)\n",
    "\n",
    "1) Task : Convert temperature from Celsius to Fahrenheit.\n",
    "2) Formula : Temperature in degrees Fahrenheit (°F) = (Temperature in degrees Celsius (°C) x 9/5) + 32\n",
    "3) Inputs : temperature in Celsius \n",
    "4) Output : Temperature in Fahrenheit\n",
    "\n",
    "#### Steps :\n",
    "- Take the input i.e temperature in Celsius  from the user\n",
    "- Convert temperature from Celsius to Fahrenheit using formula and store it into variable called \"Fahren_temp\"\n",
    "- Display the converted temperature i.e : Fahren_temp"
   ]
  },
  {
   "cell_type": "code",
   "execution_count": 6,
   "id": "29e666b7-0d26-40f2-a8b2-a76297227c43",
   "metadata": {},
   "outputs": [
    {
     "name": "stdin",
     "output_type": "stream",
     "text": [
      "Enter the temperature in Celsius :  10\n"
     ]
    }
   ],
   "source": [
    "## step 1) take the input i.e temperature in Celsius from the user\n",
    "\n",
    "celsius_temp = float(input(\"Enter the temperature in Celsius : \"))"
   ]
  },
  {
   "cell_type": "code",
   "execution_count": 7,
   "id": "ac00a3c1-10aa-4aeb-b3ff-f4036f44a3c0",
   "metadata": {},
   "outputs": [],
   "source": [
    "## step 2) convert temperature from celsius to Fahrenheit using the formula\n",
    "\n",
    "Fahren_temp = (celsius_temp * 9/5) + 32"
   ]
  },
  {
   "cell_type": "code",
   "execution_count": 8,
   "id": "04eb0bbd-466d-4668-81b7-df1cce6971e1",
   "metadata": {},
   "outputs": [
    {
     "name": "stdout",
     "output_type": "stream",
     "text": [
      "Temperature in Fahrenheit is :  50.0\n"
     ]
    }
   ],
   "source": [
    "## step 3) display the converted temperature i.e Fahren_temp\n",
    "print(\"Temperature in Fahrenheit is : \",Fahren_temp)"
   ]
  },
  {
   "cell_type": "markdown",
   "id": "33319067-7486-4e2d-9cde-8add2b85a630",
   "metadata": {},
   "source": [
    "\n",
    "\n",
    "\n",
    "\n",
    "\n"
   ]
  },
  {
   "cell_type": "markdown",
   "id": "f6d8b201-984f-4975-b7de-745105c17885",
   "metadata": {},
   "source": [
    "# Topic : String Based Questions"
   ]
  },
  {
   "cell_type": "markdown",
   "id": "e80a917d-816b-4ca7-a9a2-ad85229269a2",
   "metadata": {},
   "source": [
    "## 1) Write a Python program that takes a string as input and prints the length of the string."
   ]
  },
  {
   "cell_type": "markdown",
   "id": "ad70f29e-0ed5-4eef-8722-2988097558f7",
   "metadata": {},
   "source": [
    "## Ans 1)\n",
    "\n",
    "#### Steps :\n",
    "- Take the input i.e string from the user.\n",
    "- Get the legnth of string using built-in length function and print it."
   ]
  },
  {
   "cell_type": "code",
   "execution_count": 9,
   "id": "6c5e143c-30db-4559-933a-e2cd3cc9fcd2",
   "metadata": {},
   "outputs": [
    {
     "name": "stdin",
     "output_type": "stream",
     "text": [
      "Enter any string (your name, any sentence etc.) :  noorain\n"
     ]
    }
   ],
   "source": [
    "## Step 1) the the input as a string from the user\n",
    "\n",
    "input_str = input(\"Enter any string (your name, any sentence etc.) : \")"
   ]
  },
  {
   "cell_type": "code",
   "execution_count": 10,
   "id": "7a1accff-adbd-4435-b652-5155e804e8eb",
   "metadata": {},
   "outputs": [
    {
     "name": "stdout",
     "output_type": "stream",
     "text": [
      "The length of given string is : 7\n"
     ]
    }
   ],
   "source": [
    "## step 2) find the length of the string using len() function and print it\n",
    "\n",
    "print(f\"The length of given string is : {len(input_str)}\")"
   ]
  },
  {
   "cell_type": "markdown",
   "id": "8f95636f-fb00-4e7a-b5c7-af3e28571a4a",
   "metadata": {},
   "source": []
  },
  {
   "cell_type": "markdown",
   "id": "2272fa0a-fb60-4abd-aada-7ebef7a4548b",
   "metadata": {},
   "source": [
    "## 2) Create a program that takes a sentence from the user and counts the number of vowels (a, e, i, o, u) in the string."
   ]
  },
  {
   "cell_type": "markdown",
   "id": "40e631f9-7cc3-42db-a56a-e031cbdca0c0",
   "metadata": {},
   "source": [
    "## Ans 2)\n",
    "\n",
    "1) Task   : Count the number of vowels in the string.\n",
    "2) Input  : String\n",
    "3) Output : Number of vowels present in given string.\n",
    "\n",
    "#### Steps :\n",
    "- Take the input i.e string from the user and store it into a variable.\n",
    "- Initialise a varaible vowel_count (that will count the number of vowels in the string) by 0. \n",
    "- Traverse through the string and check if the character is a vowel or not.\n",
    "- If character is a vowel then increase the count of vowel by 1.\n",
    "- Finally return the number of vowels i.e vowel_count."
   ]
  },
  {
   "cell_type": "code",
   "execution_count": 11,
   "id": "76240170-d6ec-4be8-80a6-4de7c9c8a861",
   "metadata": {},
   "outputs": [
    {
     "name": "stdin",
     "output_type": "stream",
     "text": [
      "Enter any string :  my name is noorain\n"
     ]
    }
   ],
   "source": [
    "## Step 1) Take the input string from the user\n",
    "\n",
    "input_str = input(\"Enter any string : \")"
   ]
  },
  {
   "cell_type": "code",
   "execution_count": 12,
   "id": "ac285bcd-d691-4112-b3b5-72b297d0ce9b",
   "metadata": {},
   "outputs": [],
   "source": [
    "## Step 2) Initialise a variable vowel_count by zero\n",
    "vowel_count = 0"
   ]
  },
  {
   "cell_type": "code",
   "execution_count": 13,
   "id": "20dd29cd-0be6-4ae0-862c-f4d4ad9ceeab",
   "metadata": {},
   "outputs": [],
   "source": [
    "## Step 3) Traverse through the string and check if the character is a vowel or not.\n",
    "###        If character is a vowel then increase the count of vowel by 1.  \n",
    "\n",
    "for character in input_str:\n",
    "    if character in ['a','e','i','o','u']:     # search character in list of vowels\n",
    "        vowel_count += 1"
   ]
  },
  {
   "cell_type": "code",
   "execution_count": 14,
   "id": "9f39005d-726c-46e1-b9ec-74d7df41219c",
   "metadata": {},
   "outputs": [
    {
     "name": "stdout",
     "output_type": "stream",
     "text": [
      "The number of vowels in the string : 7 \n"
     ]
    }
   ],
   "source": [
    "## Step 4) Display the vowel count\n",
    "\n",
    "print(f\"The number of vowels in the string : {vowel_count} \")"
   ]
  },
  {
   "cell_type": "code",
   "execution_count": null,
   "id": "868dad8a-ee5b-4f63-9091-aae16159d9d1",
   "metadata": {},
   "outputs": [],
   "source": []
  },
  {
   "cell_type": "markdown",
   "id": "9802bd0e-fe83-4c4b-8ddc-299e03085c5e",
   "metadata": {},
   "source": [
    "## 3) Given a string, reverse the order of characters using string slicing and print the reversed string."
   ]
  },
  {
   "cell_type": "markdown",
   "id": "d87dcd4e-21c3-4457-88f9-8a7fe335e630",
   "metadata": {},
   "source": [
    "## Ans 3)\n",
    "\n",
    "1) Task : Reverse the given string using slicing.\n",
    "2) Inputs : String \n",
    "3) Output : Reversed String\n",
    "\n",
    "#### Steps :\n",
    "- Take the input i.e string from the user.\n",
    "- Reverse it using slicing i.e by passing starting value empty, ending value empty , step/jump by -1\n",
    "- Display the reversed string i.e : reversed_str"
   ]
  },
  {
   "cell_type": "code",
   "execution_count": 15,
   "id": "c6ceae81-cbbd-4ec3-9709-37a8f7939a9b",
   "metadata": {},
   "outputs": [
    {
     "name": "stdin",
     "output_type": "stream",
     "text": [
      "Enter any string to reverse it :  banana\n"
     ]
    }
   ],
   "source": [
    "## step 1) Take the input i.e string from the user.\n",
    "\n",
    "input_str = input(\"Enter any string to reverse it : \")"
   ]
  },
  {
   "cell_type": "code",
   "execution_count": 16,
   "id": "590f571a-fdf1-4b0c-8296-81c85aa3f70b",
   "metadata": {},
   "outputs": [],
   "source": [
    "## step 2) Reverse it using slicing i.e by passing starting value empty, ending value empty , step/jump by -1\n",
    "\n",
    "reversed_str = input_str[::-1]"
   ]
  },
  {
   "cell_type": "code",
   "execution_count": 17,
   "id": "159a59e9-036d-4277-a998-31b0b74b806a",
   "metadata": {},
   "outputs": [
    {
     "name": "stdout",
     "output_type": "stream",
     "text": [
      "Enterted string is : banana\n",
      "Reversed string is: ananab \n"
     ]
    }
   ],
   "source": [
    "## step 3) Display the reversed string i.e : reversed_str\n",
    "\n",
    "print(f\"Enterted string is : {input_str}\\nReversed string is: {reversed_str} \")"
   ]
  },
  {
   "cell_type": "markdown",
   "id": "1514b112-552d-427e-9ac8-1f90f29433da",
   "metadata": {},
   "source": [
    "## 4) Write a program that takes a string as input and checks if it is a palindrome (reads the same forwards and backwards)."
   ]
  },
  {
   "cell_type": "markdown",
   "id": "ed4cff84-a900-440e-8bc4-63f021c4b9d7",
   "metadata": {},
   "source": [
    "## Ans 4)\n",
    "\n",
    "1) Task    : Check whether a given string is palindrome or not?\n",
    "2) Palindrome String : A string is said to be palindrome if first half of the string is exactly same as the reverse of second half of the string.\n",
    "3) Note: Strings of even length can only be palindrome.\n",
    "3) Inputs : String \n",
    "4) Output : Yes/No\n",
    "\n",
    "#### Steps :\n",
    "- Take the input i.e string from the user\n",
    "- Find the length of string.\n",
    "- If length of the string is odd, Display string is not palindrome.\n",
    "- If length of the string is even : \n",
    "- a) Divide the string into two halves i.e str_1 and str_2\n",
    "- b) Now reverse the second half of the string i.e str_2\n",
    "- c) Compare both the string i. str_1 and reversed str_2\n",
    "- If both are same then print 'string is palindrome' else print 'string is not palindrome'"
   ]
  },
  {
   "cell_type": "code",
   "execution_count": 28,
   "id": "073e03d4-18a1-425b-8118-bb58bc827f45",
   "metadata": {},
   "outputs": [
    {
     "name": "stdin",
     "output_type": "stream",
     "text": [
      "Enter any string to check whether it is palindrome of not:   ahaaha\n"
     ]
    }
   ],
   "source": [
    "## Step 1) Take the input i.e string from the user\n",
    "user_str = input(\"Enter any string to check whether it is palindrome of not:  \")"
   ]
  },
  {
   "cell_type": "code",
   "execution_count": 29,
   "id": "316f354d-520c-47d7-85c6-34680bb253e5",
   "metadata": {},
   "outputs": [],
   "source": [
    "## Step 2) Find the length of string.\n",
    "\n",
    "str_length = len(user_str)"
   ]
  },
  {
   "cell_type": "code",
   "execution_count": 30,
   "id": "1fd6e826-438d-4eb5-928e-90646adc8dfc",
   "metadata": {},
   "outputs": [
    {
     "name": "stdout",
     "output_type": "stream",
     "text": [
      "Given string is Palindrome.\n"
     ]
    }
   ],
   "source": [
    "## Step 3) If length of the string is odd, Display string is not palindrome.\n",
    "## Step 4) If length of the string is even : \n",
    "# a) Divide the string into two halves i.e str_1 and str_2\n",
    "# b) Now reverse the second half of the string i.e str_2\n",
    "# c) Compare both the string i. str_1 and reversed str_2\n",
    "\n",
    "if (str_length%2) != 0 :\n",
    "    print(\"Given string in not a Palindrome.\")\n",
    "    \n",
    "else:\n",
    "    # divide string into two halves\n",
    "    str1 = user_str[:str_length//2]    # slicing from starting to middle\n",
    "    str2 = user_str[str_length//2:]    # middle to end\n",
    "    \n",
    "    # reverse the second half of the string\n",
    "    str2 = str2[::-1]\n",
    "    \n",
    "    # check whether both half of the string are same or not?\n",
    "    if str1 == str2:\n",
    "        print(\"Given string is Palindrome.\")\n",
    "        \n",
    "    else: \n",
    "        print(\"Given string is not a Palindrome.\")"
   ]
  },
  {
   "cell_type": "code",
   "execution_count": null,
   "id": "9fc218ae-81e5-4d95-9473-261f379a6494",
   "metadata": {},
   "outputs": [],
   "source": []
  },
  {
   "cell_type": "markdown",
   "id": "adbe8ab6-b0e2-4bf7-acd1-54e7f436b3e6",
   "metadata": {},
   "source": [
    "## 5) Create a program that takes a string as input and removes all the spaces from it. Print the modified string without spaces."
   ]
  },
  {
   "cell_type": "markdown",
   "id": "48514997-f675-4376-a819-f5b3df2bfb83",
   "metadata": {},
   "source": [
    "## Ans 5)\n",
    "\n",
    "1) Task    : Remove all the spaces from given string.\n",
    "2) Inputs  : String\n",
    "3) Output  : String without spaces\n",
    "\n",
    "#### Steps :\n",
    "- Take the input i.e string from the user store it into a variable\n",
    "- Remove the spaces from string using str.replace(\"str/char that you want to replace\",\"str/char that you want ot replace with\") method.\n",
    "- Display the updated string i.e : updated_str"
   ]
  },
  {
   "cell_type": "code",
   "execution_count": 21,
   "id": "34a0189d-a374-448c-a8f8-bfd65d8f9fb7",
   "metadata": {},
   "outputs": [
    {
     "name": "stdin",
     "output_type": "stream",
     "text": [
      "Enter any string :  my name is noorain raza\n"
     ]
    }
   ],
   "source": [
    "## step 1) Take the input i.e string from the user store it into a variable\n",
    "\n",
    "input_str = input(\"Enter any string : \")"
   ]
  },
  {
   "cell_type": "code",
   "execution_count": 22,
   "id": "449026c4-e8b2-4fef-a2d0-0aa46515fc74",
   "metadata": {},
   "outputs": [],
   "source": [
    "## step 2) Remove the spaces from string using str.replace() method.\n",
    "# It takes two argument, first : string/char that you want to replace ; second : string/char that you want to replace with\n",
    "\n",
    "updated_str = input_str.replace(' ','')    ## replace space with nothing"
   ]
  },
  {
   "cell_type": "code",
   "execution_count": 23,
   "id": "d221b5b9-2792-463e-a2a6-f47a472391d2",
   "metadata": {},
   "outputs": [
    {
     "name": "stdout",
     "output_type": "stream",
     "text": [
      "Update string without spaces : mynameisnoorainraza \n"
     ]
    }
   ],
   "source": [
    "## step 3) Display the updated string i.e : updated_str\n",
    "\n",
    "print(f\"Update string without spaces : {updated_str} \")"
   ]
  },
  {
   "cell_type": "code",
   "execution_count": null,
   "id": "c5d80074-0c74-4f31-afe9-f8a6c5e8ed19",
   "metadata": {},
   "outputs": [],
   "source": []
  }
 ],
 "metadata": {
  "kernelspec": {
   "display_name": "Python 3 (ipykernel)",
   "language": "python",
   "name": "python3"
  },
  "language_info": {
   "codemirror_mode": {
    "name": "ipython",
    "version": 3
   },
   "file_extension": ".py",
   "mimetype": "text/x-python",
   "name": "python",
   "nbconvert_exporter": "python",
   "pygments_lexer": "ipython3",
   "version": "3.10.8"
  }
 },
 "nbformat": 4,
 "nbformat_minor": 5
}
